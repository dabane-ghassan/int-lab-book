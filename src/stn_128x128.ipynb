{
 "cells": [
  {
   "cell_type": "markdown",
   "metadata": {},
   "source": [
    "# Loading Modules"
   ]
  },
  {
   "cell_type": "code",
   "execution_count": null,
   "metadata": {},
   "outputs": [],
   "source": [
    "from display import Display, minmax, place_object\n",
    "from main import init\n",
    "import torch\n",
    "import torch.nn as nn\n",
    "import torch.nn.functional as F\n",
    "import torch.optim as optim\n",
    "import torchvision\n",
    "from torchvision import datasets, transforms\n",
    "import matplotlib.pyplot as plt\n",
    "import numpy as np\n",
    "from what import WhatShift, WhatBackground, WhatNet, WhatTrainer, What, train, test, MNIST\n",
    "from spatial_transformer import SpatialTransformer\n",
    "from where import RetinaFill, WhereShift, RetinaBackground, RetinaMask"
   ]
  },
  {
   "cell_type": "markdown",
   "metadata": {},
   "source": [
    "# Loading the Data"
   ]
  },
  {
   "cell_type": "markdown",
   "metadata": {},
   "source": [
    "- Loading the data with the parameters given in the .json file for the What/Where model"
   ]
  },
  {
   "cell_type": "code",
   "execution_count": null,
   "metadata": {},
   "outputs": [],
   "source": [
    "args = init(filename='../data/2020-07-01')\n",
    "args"
   ]
  },
  {
   "cell_type": "markdown",
   "metadata": {},
   "source": [
    "# Exploring the MNIST with where noise parameters"
   ]
  },
  {
   "cell_type": "markdown",
   "metadata": {},
   "source": [
    "- 128x128 pixel with shift, noise and circular mask"
   ]
  },
  {
   "cell_type": "code",
   "execution_count": null,
   "metadata": {},
   "outputs": [],
   "source": [
    "transform_big = transforms.Compose([\n",
    "    RetinaFill(N_pic=args.N_pic),\n",
    "    WhereShift(args),\n",
    "    RetinaBackground(contrast=args.contrast,\n",
    "                     noise=args.noise,\n",
    "                     sf_0=args.sf_0,\n",
    "                     B_sf=args.B_sf),\n",
    "    RetinaMask(N_pic=args.N_pic),\n",
    "    transforms.ToTensor()\n",
    "    #FullfieldRetinaWhiten(N_pic=args.N_pic),\n",
    "    #FullfieldRetinaTransform(Retina(args).retina_transform_vector),\n",
    "    #FullfieldToFloatTensor(),\n",
    "    # Normalize(fullfield=True)\n",
    "    # transforms.Normalize((args.mean,), (args.std,))\n",
    "])"
   ]
  },
  {
   "cell_type": "code",
   "execution_count": null,
   "metadata": {},
   "outputs": [],
   "source": [
    "dataset_train = MNIST('../data',\n",
    "                        train=True,\n",
    "                        download=True,\n",
    "                        transform=transform_big,\n",
    "                        )\n",
    "\n",
    "train_loader = torch.utils.data.DataLoader(dataset_train,\n",
    "                                         batch_size=args.minibatch_size,\n",
    "                                         shuffle=True)\n",
    "\n",
    "dataset_test = MNIST('../data',\n",
    "                        train=False,\n",
    "                        download=True,\n",
    "                        transform=transform_big,\n",
    "                        )\n",
    "\n",
    "test_loader = torch.utils.data.DataLoader(dataset_test,\n",
    "                                         batch_size=args.minibatch_size,\n",
    "                                         shuffle=True)"
   ]
  },
  {
   "cell_type": "code",
   "execution_count": null,
   "metadata": {},
   "outputs": [],
   "source": [
    "data_big, label_big = next(iter(train_loader))"
   ]
  },
  {
   "cell_type": "code",
   "execution_count": null,
   "metadata": {},
   "outputs": [],
   "source": [
    "data_big.shape"
   ]
  },
  {
   "cell_type": "code",
   "execution_count": null,
   "metadata": {},
   "outputs": [],
   "source": [
    "N_plot = 5\n",
    "fig, axs = plt.subplots(1, N_plot, figsize = (21, 5))\n",
    "for i_ax, ax in enumerate(axs):\n",
    "    ax.imshow(data_big[i_ax, 0, :, :], cmap=plt.gray())\n",
    "    ax.set_title(\"Label = %d\"%(label_big[i_ax].item()))\n",
    "    ax.set_xticks([])\n",
    "    ax.set_yticks([])"
   ]
  }
 ],
 "metadata": {
  "kernelspec": {
   "display_name": "Python 3",
   "language": "python",
   "name": "python3"
  },
  "language_info": {
   "codemirror_mode": {
    "name": "ipython",
    "version": 3
   },
   "file_extension": ".py",
   "mimetype": "text/x-python",
   "name": "python",
   "nbconvert_exporter": "python",
   "pygments_lexer": "ipython3",
   "version": "3.8.8"
  }
 },
 "nbformat": 4,
 "nbformat_minor": 4
}
