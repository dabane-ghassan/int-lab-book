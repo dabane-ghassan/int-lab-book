{
 "cells": [
  {
   "cell_type": "markdown",
   "metadata": {},
   "source": [
    " # Loading Modules"
   ]
  },
  {
   "cell_type": "code",
   "execution_count": 2,
   "metadata": {},
   "outputs": [],
   "source": [
    "import torch\n",
    "import torch.nn as nn\n",
    "import torch.nn.functional as F\n",
    "import torch.optim as optim\n",
    "import torchvision\n",
    "from torchvision import datasets, transforms\n",
    "import matplotlib.pyplot as plt\n",
    "import numpy as np\n",
    "from what_where.main import init, MNIST\n",
    "from what_where.where import RetinaFill, WhereShift, RetinaBackground, RetinaMask\n",
    "from utils import view_dataset\n",
    "from stn import STN_128x128 # importing the network"
   ]
  },
  {
   "cell_type": "code",
   "execution_count": 3,
   "metadata": {},
   "outputs": [],
   "source": [
    "class FoveatedConv2d(nn.Module):\n",
    "    def __init__(self, in_channels, out_channels, input_size=96, pool=False):\n",
    "        super().__init__()\n",
    "        out_channels = int(out_channels / 4)\n",
    "\n",
    "        if pool:\n",
    "            self.conv1 = nn.Sequential(\n",
    "                nn.AvgPool2d(2),\n",
    "                nn.Conv2d(in_channels, out_channels, kernel_size=3, stride=1, padding=1)\n",
    "            )\n",
    "        else:\n",
    "            self.conv1 = nn.Conv2d(in_channels, out_channels, kernel_size=3, stride=2, dilation=2, padding=2)\n",
    "        self.border1 = 0\n",
    "\n",
    "        self.conv2 = nn.Conv2d(in_channels, out_channels, kernel_size=3, stride=1, padding=1)\n",
    "        self.border2 = int((input_size - (input_size / 2)) / 2)\n",
    "\n",
    "        self.conv3 = nn.ConvTranspose2d(in_channels, out_channels, kernel_size=3, stride=2, padding=1, output_padding=1)\n",
    "        self.border3 = int((input_size - (input_size / 4)) / 2)\n",
    "\n",
    "        self.conv4 = nn.ConvTranspose2d(in_channels, out_channels, kernel_size=3, stride=4, padding=0, output_padding=1)\n",
    "        self.border4 = int((input_size - (input_size / 8)) / 2)\n",
    "\n",
    "    def crop(self, x, border):\n",
    "        return x[:, :, border:x.size(2) - border, border:x.size(3) - border]\n",
    "\n",
    "    def forward(self, x):\n",
    "        x1 = self.conv1(self.crop(x, self.border1))\n",
    "        x2 = self.conv2(self.crop(x, self.border2))\n",
    "        x3 = self.conv3(self.crop(x, self.border3))\n",
    "        x4 = self.conv4(self.crop(x, self.border4))\n",
    "        return torch.cat((x1, x2, x3, x4), dim=1)"
   ]
  },
  {
   "cell_type": "code",
   "execution_count": 4,
   "metadata": {},
   "outputs": [],
   "source": [
    "fov_net = STN_128x128()"
   ]
  },
  {
   "cell_type": "code",
   "execution_count": 5,
   "metadata": {},
   "outputs": [
    {
     "data": {
      "text/plain": [
       "STN_128x128(\n",
       "  (conv1): Conv2d(1, 20, kernel_size=(5, 5), stride=(1, 1))\n",
       "  (conv2): Conv2d(20, 100, kernel_size=(5, 5), stride=(1, 1))\n",
       "  (fc1): Linear(in_features=84100, out_features=128, bias=True)\n",
       "  (fc2): Linear(in_features=128, out_features=10, bias=True)\n",
       "  (localization): Sequential(\n",
       "    (0): Conv2d(1, 16, kernel_size=(7, 7), stride=(1, 1))\n",
       "    (1): MaxPool2d(kernel_size=2, stride=2, padding=0, dilation=1, ceil_mode=False)\n",
       "    (2): ReLU(inplace=True)\n",
       "    (3): Conv2d(16, 32, kernel_size=(5, 5), stride=(1, 1))\n",
       "    (4): MaxPool2d(kernel_size=2, stride=2, padding=0, dilation=1, ceil_mode=False)\n",
       "    (5): ReLU(inplace=True)\n",
       "    (6): Conv2d(32, 64, kernel_size=(5, 5), stride=(1, 1))\n",
       "    (7): MaxPool2d(kernel_size=2, stride=2, padding=0, dilation=1, ceil_mode=False)\n",
       "    (8): ReLU(inplace=True)\n",
       "    (9): Conv2d(64, 128, kernel_size=(5, 5), stride=(1, 1))\n",
       "    (10): MaxPool2d(kernel_size=2, stride=2, padding=0, dilation=1, ceil_mode=False)\n",
       "    (11): ReLU(inplace=True)\n",
       "  )\n",
       "  (fc_loc): Sequential(\n",
       "    (0): Linear(in_features=2048, out_features=32, bias=True)\n",
       "    (1): ReLU(inplace=True)\n",
       "    (2): Linear(in_features=32, out_features=6, bias=True)\n",
       "  )\n",
       ")"
      ]
     },
     "execution_count": 5,
     "metadata": {},
     "output_type": "execute_result"
    }
   ],
   "source": [
    "fov_net"
   ]
  }
 ],
 "metadata": {
  "kernelspec": {
   "display_name": "Python 3",
   "language": "python",
   "name": "python3"
  },
  "language_info": {
   "codemirror_mode": {
    "name": "ipython",
    "version": 3
   },
   "file_extension": ".py",
   "mimetype": "text/x-python",
   "name": "python",
   "nbconvert_exporter": "python",
   "pygments_lexer": "ipython3",
   "version": "3.8.8"
  }
 },
 "nbformat": 4,
 "nbformat_minor": 4
}
